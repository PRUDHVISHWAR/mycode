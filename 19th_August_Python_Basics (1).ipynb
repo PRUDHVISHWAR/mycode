{
 "cells": [
  {
   "cell_type": "code",
   "execution_count": 2,
   "id": "2d973c60-6229-4187-9ff0-7a989bca7200",
   "metadata": {},
   "outputs": [
    {
     "name": "stdout",
     "output_type": "stream",
     "text": [
      "2\n",
      "1\n"
     ]
    }
   ],
   "source": [
    "#TOPIC: Python Basics Variable\n",
    "# question 1\n",
    "x,y=1,2\n",
    "x,y=y,x\n",
    "print(x)\n",
    "print(y)"
   ]
  },
  {
   "cell_type": "code",
   "execution_count": 5,
   "id": "3ae35959-b3cb-4b2f-9ce6-ee58eaff66a7",
   "metadata": {},
   "outputs": [
    {
     "name": "stdin",
     "output_type": "stream",
     "text": [
      "Enter the lenght 1\n",
      "Enter the width 2\n"
     ]
    },
    {
     "name": "stdout",
     "output_type": "stream",
     "text": [
      "2\n"
     ]
    }
   ],
   "source": [
    "#question 2\n",
    "length = int(input(\"Enter the lenght\"))\n",
    "width = int(input(\"Enter the width\"))\n",
    "area = length*width\n",
    "print(area)"
   ]
  },
  {
   "cell_type": "code",
   "execution_count": 6,
   "id": "bf1b44af-ae0b-4ba0-a8a0-049e69d8e63d",
   "metadata": {},
   "outputs": [
    {
     "name": "stdin",
     "output_type": "stream",
     "text": [
      "enter the temperature 12\n"
     ]
    },
    {
     "name": "stdout",
     "output_type": "stream",
     "text": [
      "53.6\n"
     ]
    }
   ],
   "source": [
    "#question3\n",
    "celsius = float(input(\"enter the temperature\"))\n",
    "fahrenheit = (celsius * 9/5) + 32\n",
    "print(fahrenheit)"
   ]
  },
  {
   "cell_type": "code",
   "execution_count": null,
   "id": "aa66360d-24bd-4e4c-b46a-b0106ed3fdb7",
   "metadata": {},
   "outputs": [],
   "source": [
    "#TOPIC: String Based Questions\n",
    "#question 1\n",
    "a=input(\"enter the string\")\n",
    "print(len(a))"
   ]
  },
  {
   "cell_type": "code",
   "execution_count": 9,
   "id": "65a0e253-ab12-4ba5-bbf4-0288ff00406a",
   "metadata": {},
   "outputs": [
    {
     "name": "stdin",
     "output_type": "stream",
     "text": [
      "enter a sentence prudhvi\n"
     ]
    },
    {
     "name": "stdout",
     "output_type": "stream",
     "text": [
      "2\n"
     ]
    }
   ],
   "source": [
    "#question2\n",
    "vowels = \"aeiou\"\n",
    "sentence =input(\"enter a sentence\")\n",
    "count = 0\n",
    "for letter in sentence:\n",
    "    if letter in vowels:\n",
    "        count+=1\n",
    "print(count)"
   ]
  },
  {
   "cell_type": "code",
   "execution_count": 10,
   "id": "46b026f4-599d-4b27-949a-205437de8af4",
   "metadata": {},
   "outputs": [
    {
     "name": "stdin",
     "output_type": "stream",
     "text": [
      "enter a string prusdhi\n"
     ]
    },
    {
     "name": "stdout",
     "output_type": "stream",
     "text": [
      "ihdsurp\n"
     ]
    }
   ],
   "source": [
    "#question3\n",
    "string=input(\"enter a string\")\n",
    "print(string[::-1])"
   ]
  },
  {
   "cell_type": "code",
   "execution_count": 12,
   "id": "af4e9e69-188c-4a7f-8819-62928860ef18",
   "metadata": {},
   "outputs": [
    {
     "name": "stdin",
     "output_type": "stream",
     "text": [
      "enter a string 101\n"
     ]
    },
    {
     "name": "stdout",
     "output_type": "stream",
     "text": [
      "palindrome\n"
     ]
    }
   ],
   "source": [
    "#question4\n",
    "string = input(\"enter a string\")\n",
    "r_string = string[::-1]\n",
    "if string==r_string:\n",
    "    print(\"palindrome\")\n",
    "else:\n",
    "    print(\"not palindrome\")"
   ]
  },
  {
   "cell_type": "code",
   "execution_count": 13,
   "id": "150b7e66-4d7a-41d7-a708-2361bb3225d0",
   "metadata": {},
   "outputs": [
    {
     "name": "stdin",
     "output_type": "stream",
     "text": [
      "enter a string prudhvi shwar\n"
     ]
    },
    {
     "name": "stdout",
     "output_type": "stream",
     "text": [
      "prudhvishwar\n"
     ]
    }
   ],
   "source": [
    "#questoin5\n",
    "string = input(\"enter a string\")\n",
    "new_string =\"\"\n",
    "for letter in string:\n",
    "    if letter!=\" \":\n",
    "        new_string+=letter\n",
    "print(new_string)"
   ]
  },
  {
   "cell_type": "code",
   "execution_count": null,
   "id": "392fc06e-5fb5-4b55-8dfd-a36e35a97cae",
   "metadata": {},
   "outputs": [],
   "source": []
  }
 ],
 "metadata": {
  "kernelspec": {
   "display_name": "Python 3 (ipykernel)",
   "language": "python",
   "name": "python3"
  },
  "language_info": {
   "codemirror_mode": {
    "name": "ipython",
    "version": 3
   },
   "file_extension": ".py",
   "mimetype": "text/x-python",
   "name": "python",
   "nbconvert_exporter": "python",
   "pygments_lexer": "ipython3",
   "version": "3.11.4"
  }
 },
 "nbformat": 4,
 "nbformat_minor": 5
}
